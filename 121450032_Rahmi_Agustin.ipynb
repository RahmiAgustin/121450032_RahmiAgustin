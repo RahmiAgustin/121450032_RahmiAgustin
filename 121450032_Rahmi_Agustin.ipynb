{
  "nbformat": 4,
  "nbformat_minor": 0,
  "metadata": {
    "colab": {
      "provenance": [],
      "authorship_tag": "ABX9TyMakXIeX3Ss1B3Q2jD8zZ30",
      "include_colab_link": true
    },
    "kernelspec": {
      "name": "python3",
      "display_name": "Python 3"
    },
    "language_info": {
      "name": "python"
    }
  },
  "cells": [
    {
      "cell_type": "markdown",
      "metadata": {
        "id": "view-in-github",
        "colab_type": "text"
      },
      "source": [
        "<a href=\"https://colab.research.google.com/github/RahmiAgustin/Exercise-9_STRUKTUR-DATA/blob/main/121450032_Rahmi_Agustin.ipynb\" target=\"_parent\"><img src=\"https://colab.research.google.com/assets/colab-badge.svg\" alt=\"Open In Colab\"/></a>"
      ]
    },
    {
      "cell_type": "markdown",
      "source": [
        "#Nama : Rahmi Agustin#\n",
        "$121450032$"
      ],
      "metadata": {
        "id": "z8HNc5Q9ZAEE"
      }
    },
    {
      "cell_type": "markdown",
      "source": [
        "#**Exercise 9 Struktur Data**\n",
        "**Introduction Section**\\\n",
        "1.Jelaskan definisi object dalam Paradigma Object-Oriented!\\\n",
        "2.Jelaskan tiga tujuan dalam Paradigma Object-Oriented!\\\n",
        "3.Jelaskan tiga prinsip dalam Paradigma Object-Oriented!\\\n",
        "4.Sebutkan contoh design pattern dalam Paradigma Object-Oriented!\n",
        "\n",
        "#**Jawab:**\n",
        "1.merupakan paradigma pemrograman yang dimana semua hal dalam program dimodelkan seperti objek dalam dunia nyata\\\n",
        "2.\n",
        "-menstruktur data dan program dalam bentuk class.\\\n",
        "-mempermudah pengembangan sebuah program.\\\n",
        "-membantu para developer dalam mengembangkan model yang sudah ada di kehidupan sehari-hari.\\\n",
        "3.-Inheritance:adalah prinsip di mana dapat membentuk class baru yang “mewarisi” atau memiliki bagian-bagian dari class yang sudah ada sebelumnya\\\n",
        "-Abstract Class:adalah class-class yang memiliki informasi abstrak dan metode-metode dari sekumpulan data\n",
        "-Polymorphism:konsep di mana suatu objek berbeda-beda dapat diakses melalui satu interface.\\\n",
        "4.Creational Pattern (Pola pembuatan):Pola ini adalah solusi untuk menyelesaikan masalah yang ditemukan dalam pembuatan suatu instance atau objek. Contoh implementasi dari creational pattern ini adalah saat pengembang ingin membuat sebuah class untuk database yang dapat diakses dari beberapa lokasi\\\n",
        "\n",
        "#Class and Object#\n",
        "1.Jelaskan definisi Class!\\\n",
        "2.Jelaskan perbedaan Attribute dengan Method!\\\n",
        "3.Jelaskan apa itu instansiasi Object!\\\n",
        "4.Jelaskan apa itu identifier!\\\n",
        "#Jawab#\n",
        "1.Class merupakan suatu blueprint atau cetakan untuk menciptakan suatu instant dari  object. class juga merupakan grup suatu object dengan kemiripan attributes properties, behaviour dan relasi ke object lain. Contoh : Class Person, Vehicle, Tree, Fruit dan lain-lain.\\\n",
        "2.\n",
        "-Atribut (attribute) adalah variabel pada kelas yang menyatakan properti atau karakteristik atau ciri dari suatu obyek. Dalam contoh kelas Animal (binatang) maka atribut dapat berupa name (nama), speed (kecepatan), sound (suara), dll.\\\n",
        "-Method adalah kumpulan program yang mempunyai nama. Method merupakan sarana bagi programmer untuk memecah program menjadi bagian-bagian yang kecil agar jadi lebih kompleks sehingga dapat di gunakan berulang-ulang.\\\n",
        "3.instansi objek yaitu dimana instansi ini merupakan proses pembuatan objek dari suatu kelas dimana objeknya merupakan insansiasi atau perwujudan dari sebuah kelas itu sendiri\\\n",
        "4.Identifier (pengenal) merupakan nama yang diberikan untuk mengidentifikasi seperti variabel, fungsi, kelas dan lain sebagainya. Fungsi dari identifier sendiri adalah untuk membedakan antara entitas yang satu dengan entitas lainnya\n",
        "\n",
        "#Implementasikan kelas diagram \"Kendaraan\" berikut ke dalam Python!#\n",
        "\n",
        "Class Kendaraan :\n",
        "\n",
        "- string nomorPlat\n",
        "- string merk\n",
        "- string jenis\n",
        "- string warna\n",
        "- int tanggalBeli\n",
        "- int bulanBeli\n",
        "- int tahunBeli\n",
        "- double berat\n",
        "- double harga\n",
        "- showTanggalPembelian()\n",
        "\n",
        "\n",
        "\n",
        "\n",
        "\n",
        "\n",
        "\n"
      ],
      "metadata": {
        "id": "oVt3cIkdZSXW"
      }
    },
    {
      "cell_type": "markdown",
      "source": [
        "#Main OOP Concept#\n",
        "1.Jelaskan konsep encapsulation dalam Paradigma Object-Oriented!\\\n",
        "2.Jelaskan konsep inheritance dalam Paradigma Object-Oriented!\\\n",
        "3.Jelaskan perbedaan public method dan private method dalam encapsulation!\\\n",
        "4.Jelaskan perbedaan superclass dan subclass dalam inheritance!\n",
        "\n",
        "#jawab#\n",
        "1.adalah konsep tentang pengikatan data atau metode berbeda yang disatukan atau “dikapsulkan” menjadi satu unit data. Encapsulation dapat memudahkan dalam pembacaan kode karena informasi yang disajikan tidak perlu dibaca secara rinci dan sudah merupakan satu kesatuan.\\\n",
        "2.adalah kemampuan untuk membentuk class baru yang memiliki fungsi turunan atau mirip dengan fungsi yang ada sebelumnya. Konsep ini menggunakan sistem hierarki atau bertingkat. Maksudnya, semakin jauh turunan atau subclass-nya, maka semakin sedikit kemiripan fungsinya.\\\n",
        "3.Ketika sebuah property atau method dinyatakan sebagai public, maka seluruh kode program di luar class bisa mengaksesnya sedangkan  private method merupakan hak akses terakhir dalam konsep enkapulasi\\\n",
        "4.Superclass digunakan untuk menunjukkan hirarki class yang berarti class dasar dari subclass/class anak sedangkan Subclass adalah class anak atau turunan secara hirarki dari superclass.\n"
      ],
      "metadata": {
        "id": "w65UdsACq1XT"
      }
    },
    {
      "cell_type": "markdown",
      "source": [
        "#Programming Exercise#"
      ],
      "metadata": {
        "id": "UeD4Sng_ba4R"
      }
    },
    {
      "cell_type": "code",
      "source": [
        "#Buatlah class diagram dari code python berikut ini:\n",
        "class Koordinat:\n",
        "    def __init__(self,x,y):\n",
        "    \tself.z = 0\n",
        "    \tself.x = x\n",
        "    \tself.y = y\n",
        "    def set_x(self,x):\n",
        "    \tself.x = x\n",
        "    def increment_x(self):\n",
        "    \tself.x+=1\n",
        "    def __str__(self):\n",
        "    \treturn f\"x : {self.x} , y:{self.y} , z:{self.z}\"\n",
        "      "
      ],
      "metadata": {
        "id": "YAzAy22HdMXG"
      },
      "execution_count": 1,
      "outputs": []
    },
    {
      "cell_type": "code",
      "source": [
        "from numpy import sqrt\n",
        "class norm:\n",
        "  def __init__(self, x, y, z):\n",
        "    self.x = x\n",
        "    self.y = y\n",
        "    self.z = z\n",
        "\n",
        "  def perhitungan(self):\n",
        "    self.hasil = sqrt((self.x)**2 + (self.y)**2 + (self.z)**2)\n",
        "\n",
        "  def display(self):\n",
        "    print(\"x : \", str(self.x))\n",
        "    print(\"y : \", str(self.y))\n",
        "    print(\"z : \", str(self.z))\n",
        "    print(\"Nilai norm dari vektor tersebut adalah\", str(self.hasil))"
      ],
      "metadata": {
        "id": "9224aa5DdtVQ"
      },
      "execution_count": 2,
      "outputs": []
    },
    {
      "cell_type": "markdown",
      "source": [
        "#Implementasikan class diagram berikut menjadi program python!#\n",
        "![cttnnn.PNG](data:image/png;base64,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)"
      ],
      "metadata": {
        "id": "ppfL9rPgdaCC"
      }
    },
    {
      "cell_type": "code",
      "source": [
        "from numpy import sqrt\n",
        "\n",
        "class Koordinat:\n",
        "  def __init__(self,x,y,z):\n",
        "    self.x = x\n",
        "    self.y = y\n",
        "    self.z = z\n",
        "  def setx(self):\n",
        "    return self.x\n",
        "  def sety(self):\n",
        "    return self.y\n",
        "  def setz(self):\n",
        "    return self.z\n",
        "\n",
        "class Vector(Koordinat):\n",
        "  def setKoordinat(self):\n",
        "    self.koordinat = self.x, self.y, self.z\n",
        "  def getKoordinat(self):\n",
        "    print(f'Koordinat {self.x, self.y, self.z}')\n",
        "  def norm(self):\n",
        "    self.norm = sqrt((self.x)**2 + (self.y)**2 + (self.z)**2)\n",
        "    print(f'Nilai norm vector nya adalah {self.norm}')\n",
        "# Main programming"
      ],
      "metadata": {
        "id": "p-cxcWVbhRS7"
      },
      "execution_count": 17,
      "outputs": []
    },
    {
      "cell_type": "markdown",
      "source": [
        "![ct2.PNG](data:image/png;base64,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)"
      ],
      "metadata": {
        "id": "ISTm7uIWlK45"
      }
    },
    {
      "cell_type": "code",
      "source": [
        "class Koordinat :\n",
        "  def __init__ (self, x, y , z):\n",
        "    self.x = x\n",
        "    self.y = y\n",
        "    self.z = z\n",
        "  \n",
        "  def setx(self):\n",
        "    return self.x\n",
        "\n",
        "  def sety(self):\n",
        "    return self.y\n",
        "\n",
        "  def setz(self):\n",
        "    return self.z\n",
        "\n",
        "class vector :\n",
        "  def getKoordinat(self, setx,sety,setz):\n",
        "    self.setx = setx\n",
        "    self.sety = sety\n",
        "    self.setz = setz\n",
        "\n",
        "  def setKoordinat(self,k):\n",
        "    koordinat = (k.setx(), k.sety(), k.setz())\n",
        "    return koordinat\n",
        "\n",
        "  def norm(self, a, b):\n",
        "    sum = 0\n",
        "    self.a = self.setKoordinat(a)\n",
        "    self.b = self.setKoordinat(b)\n",
        "    for n in range (3):\n",
        "      sum = sum + (self.a[n]- self.b[n])**2\n",
        "    return sum **0.5"
      ],
      "metadata": {
        "id": "iFhC9aSzlkSf"
      },
      "execution_count": 14,
      "outputs": []
    },
    {
      "cell_type": "code",
      "source": [
        "a = Koordinat(2,1,4)\n",
        "b = Koordinat(0,0,0)\n",
        "v = vector()\n",
        "v.norm(a,b)"
      ],
      "metadata": {
        "id": "MvU1tVjjoqz6",
        "colab": {
          "base_uri": "https://localhost:8080/"
        },
        "outputId": "8bd05ee1-b562-4380-f7c3-e1994090774c"
      },
      "execution_count": 16,
      "outputs": [
        {
          "output_type": "execute_result",
          "data": {
            "text/plain": [
              "4.58257569495584"
            ]
          },
          "metadata": {},
          "execution_count": 16
        }
      ]
    },
    {
      "cell_type": "markdown",
      "source": [
        "![strukdat 2.PNG](data:image/png;base64,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)"
      ],
      "metadata": {
        "id": "DdRr0Ns5uiLR"
      }
    },
    {
      "cell_type": "code",
      "source": [
        "class Euclidean(Vector):\n",
        "  def __init__(self, x, y, z, X2, Y2, Z2):\n",
        "    self.x = x\n",
        "    self.y = y\n",
        "    self.z = z\n",
        "    self.x2 = X2\n",
        "    self.y2 = Y2\n",
        "    self.z2 = Z2\n",
        "    \n",
        "  def euclidean_distance(self):\n",
        "    d = sqrt((self.x - self.x2)**2+(self.y - self.y2)**2+(self.z - self.z2)**2)\n",
        "    return d\n",
        "\n",
        "jarak_vektor = Euclidean(5,2,10,1,8,9)\n",
        "jarak_vektor.euclidean_distance()"
      ],
      "metadata": {
        "colab": {
          "base_uri": "https://localhost:8080/"
        },
        "id": "-EyzNfP6u3qb",
        "outputId": "8cf62f17-e9b0-4889-9e7d-1f7736c67f54"
      },
      "execution_count": 9,
      "outputs": [
        {
          "output_type": "execute_result",
          "data": {
            "text/plain": [
              "7.280109889280518"
            ]
          },
          "metadata": {},
          "execution_count": 9
        }
      ]
    },
    {
      "cell_type": "markdown",
      "source": [
        "![strukdatt.PNG](data:image/png;base64,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)"
      ],
      "metadata": {
        "id": "egbd689mvIar"
      }
    },
    {
      "cell_type": "code",
      "source": [
        "class Koordinat :\n",
        "  def __init__ (self, x,y,z,kelas):\n",
        "    self.x = x\n",
        "    self.y = y\n",
        "    self.z = z\n",
        "    self.kelas = kelas\n",
        "\n",
        "  def setx(self):\n",
        "    return self.x\n",
        "\n",
        "  def sety(self):\n",
        "    return self.y\n",
        "\n",
        "  def setz(self):\n",
        "    return self.z\n",
        "  \n",
        "  def kelas(self):\n",
        "    return self.kelas\n",
        "\n",
        "class vector :\n",
        "  def getKoordinat(self, setx, sety, setz):\n",
        "    self.setx = setx\n",
        "    self.sety = sety\n",
        "    self.setz = setz\n",
        "  \n",
        "  def setKoordinat (self,k):\n",
        "    koordinat = (k.setx(), k.sety(), k.setz())\n",
        "    return koordinat\n",
        "\n",
        "  def norm (self, a, b):\n",
        "    sum = 0\n",
        "    self.a = self.setKoordinat(a)\n",
        "    self.b = self.setKoordinat(b)\n",
        "    for n in range (3):\n",
        "      sum = sum + (self.a[n]-self.b[n])**2\n",
        "    return sum**0.5"
      ],
      "metadata": {
        "id": "eL26pOkAvPNt"
      },
      "execution_count": 7,
      "outputs": []
    },
    {
      "cell_type": "code",
      "source": [
        "a = Koordinat(0,1,1,0)\n",
        "b = Koordinat(2,2,2,1)\n",
        "c = Koordinat(1.5,1.2,1.5,1)\n",
        "d = Koordinat(10,9,8,0)\n",
        "e = Koordinat(5,5,5,0)\n",
        "f = Koordinat(8,8,8,0)\n",
        "g = Koordinat(6,6,1,0)\n",
        "h = Koordinat(3,3,3,None)\n",
        "v = vector()\n",
        "titik = [a,b,c,d,e,f,g,h]\n",
        "\n",
        "output = []\n",
        "for n in range (len(titik)):\n",
        "  panjang = v.norm(titik[n], titik[7])\n",
        "  output.append(panjang)\n",
        "\n",
        "print(output)\n",
        "output.sort()\n",
        "print(\"Norm paling dekat dengan H adalah : \", output[1])\n",
        "print(\"Norm kedua paling dekat dengan H adalah : \", output[2])\n",
        "print(\"Norm ketiga paling dekat dengan H adalah : \", output[3])\n",
        "print(\"Norm\", output[1], \"termasuk dalam kelas 1\")\n",
        "print(\"Norm\", output[2], \"termasuk dalam kelas 1\")\n",
        "print(\"Norm\", output[3], \"termasuk dalam kelas 0\")\n",
        "print(\"Domain kelas tetangga dari H yaitu kelas 1, sehingga H termasuk dalam kelas 1\")"
      ],
      "metadata": {
        "colab": {
          "base_uri": "https://localhost:8080/"
        },
        "id": "IxV73l5wvh9Y",
        "outputId": "310a5e97-9190-4c86-8da1-77fe032602a2"
      },
      "execution_count": 8,
      "outputs": [
        {
          "output_type": "stream",
          "name": "stdout",
          "text": [
            "[4.123105625617661, 1.7320508075688772, 2.7820855486487113, 10.488088481701515, 3.4641016151377544, 8.660254037844387, 4.69041575982343, 0.0]\n",
            "Norm paling dekat dengan H adalah :  1.7320508075688772\n",
            "Norm kedua paling dekat dengan H adalah :  2.7820855486487113\n",
            "Norm ketiga paling dekat dengan H adalah :  3.4641016151377544\n",
            "Norm 1.7320508075688772 termasuk dalam kelas 1\n",
            "Norm 2.7820855486487113 termasuk dalam kelas 1\n",
            "Norm 3.4641016151377544 termasuk dalam kelas 0\n",
            "Domain kelas tetangga dari H yaitu kelas 1, sehingga H termasuk dalam kelas 1\n"
          ]
        }
      ]
    }
  ]
}